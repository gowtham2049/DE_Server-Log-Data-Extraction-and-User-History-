{
 "cells": [
  {
   "cell_type": "code",
   "execution_count": 24,
   "id": "870bd012-6b26-4180-a082-2d852187bc34",
   "metadata": {},
   "outputs": [],
   "source": [
    "import pymongo\n",
    "import re\n",
    "import mysql.connector\n",
    "from pymongo import MongoClient\n",
    "import datetime as dt\n",
    "import mysql.connector\n",
    "from pymongo import MongoClient\n",
    "from config import MYSQL_CONFIG,FILE_PATH,MONGO_URL"
   ]
  },
  {
   "cell_type": "markdown",
   "id": "d317bc8b-380c-4971-aade-3c3add0a9b03",
   "metadata": {},
   "source": [
    "## Extraction"
   ]
  },
  {
   "cell_type": "code",
   "execution_count": 5,
   "id": "e127ecbc-1513-426e-906c-f46a585b102a",
   "metadata": {},
   "outputs": [],
   "source": [
    "def email_date_extract(file_path):\n",
    "    email = re.compile(r\"From: (\\S+@\\S+)\")\n",
    "    date= re.compile(r\"^Date: (.*)$\")\n",
    "    extracted_data = []\n",
    "    current_email, current_date = None, None\n",
    "    with open(f'{file_path}','r',encoding=\"UTF 8\") as file:\n",
    "        for line in file:\n",
    "            email_matching=email.search(line)\n",
    "            date_matching=date.search(line)\n",
    "            if email_matching:\n",
    "                current_email = email_matching.group(1)\n",
    "            if date_matching: \n",
    "                current_date = date_matching.group(1)\n",
    "            if current_email and current_date:\n",
    "                extracted_data.append((current_email, current_date))\n",
    "                current_email, current_date = None, None\n",
    "    return extracted_data"
   ]
  },
  {
   "cell_type": "code",
   "execution_count": 12,
   "id": "90f5a17f-2c55-4a5d-a42d-9412545e1218",
   "metadata": {},
   "outputs": [],
   "source": [
    "result=email_date_extract(FILE_PATH)"
   ]
  },
  {
   "cell_type": "code",
   "execution_count": 17,
   "id": "bf68ab19-4d56-4810-8ac5-cdea7023cf7e",
   "metadata": {},
   "outputs": [
    {
     "name": "stdout",
     "output_type": "stream",
     "text": [
      "('louis@media.berkeley.edu', 'Fri, 4 Jan 2008 18:08:57 -0500')\n"
     ]
    }
   ],
   "source": [
    "print(result[1])"
   ]
  },
  {
   "cell_type": "markdown",
   "id": "4c9b2e71-a358-406e-a950-6f2ab821a05c",
   "metadata": {},
   "source": [
    "## Transformation"
   ]
  },
  {
   "cell_type": "code",
   "execution_count": 6,
   "id": "c5f82665-c7e1-401c-a9f6-4085d1769782",
   "metadata": {},
   "outputs": [],
   "source": [
    "import datetime as dt\n",
    "\n",
    "def transformation(data):\n",
    "    transformed=[]\n",
    "\n",
    "    for email,date in data:\n",
    "        formatted_date=dt.datetime.strptime('Fri, 4 Jan 2008 18:08:57 -0500',\"%a, %d %b %Y %H:%M:%S %z\") \\\n",
    "        .strftime(\"%Y-%m-%d %H:%M:%S\")\n",
    "        transformed.append((email,formatted_date))\n",
    "\n",
    "    return transformed"
   ]
  },
  {
   "cell_type": "code",
   "execution_count": 14,
   "id": "7d98aca4-ee9e-4a35-8699-5d47c7f479b3",
   "metadata": {},
   "outputs": [],
   "source": [
    "t_result=transformation(result)"
   ]
  },
  {
   "cell_type": "code",
   "execution_count": 16,
   "id": "7ae4db6e-0d9b-40d7-a392-a4feb956d9f7",
   "metadata": {},
   "outputs": [
    {
     "name": "stdout",
     "output_type": "stream",
     "text": [
      "('louis@media.berkeley.edu', '2008-01-04 18:08:57')\n"
     ]
    }
   ],
   "source": [
    "print(t_result[1])"
   ]
  },
  {
   "cell_type": "markdown",
   "id": "fac0c8ff-ac26-4911-9fa1-910f3ea8cee3",
   "metadata": {},
   "source": [
    "## Load to mongo"
   ]
  },
  {
   "cell_type": "code",
   "execution_count": 25,
   "id": "c7202970-ec06-441e-9148-cc9e7faec8b3",
   "metadata": {},
   "outputs": [],
   "source": [
    "def load_mongo(data,db_name=\"guvi_db\", collection_name=\"user_history\"):\n",
    "    formatted_data = [{\"email\": email, \"date\": date} for email, date in data]\n",
    "    client = MongoClient(MONGO_URL) \n",
    "    db = client[db_name]\n",
    "    collection = db[collection_name]\n",
    "    collection.insert_many(formatted_data)"
   ]
  },
  {
   "cell_type": "code",
   "execution_count": 26,
   "id": "0ab0b4d4-cbfa-458a-bd37-424d7b186638",
   "metadata": {},
   "outputs": [],
   "source": [
    "load_mongo(t_result)"
   ]
  },
  {
   "cell_type": "code",
   "execution_count": 30,
   "id": "8f5a0e7b-ab11-4b98-b418-4776c383277a",
   "metadata": {},
   "outputs": [],
   "source": [
    "def load_mysql():\n",
    "    myclient = pymongo.MongoClient(MONGO_URL)\n",
    "    mydb = myclient[\"guvi_db\"]\n",
    "    mycollection=mydb['user_history']\n",
    "\n",
    "    data = list(mycollection.find({}, {\"_id\": 0, \"email\": 1, \"date\": 1}))\n",
    "\n",
    "\n",
    "    cnx= mysql.connector.connect(**MYSQL_CONFIG)\n",
    "    mycursor = cnx.cursor()\n",
    "    mycursor.execute(\"DROP TABLE IF EXISTS user_history\")\n",
    "    mycursor.execute(\"\"\"CREATE TABLE user_history ( Personid int AUTO_INCREMENT primary key,\n",
    "    email VARCHAR(255), date timestamp)\"\"\")\n",
    "\n",
    "    insert_query=\"Insert into user_history (email,date) values(%s,%s) \"\n",
    "    mycursor.executemany(insert_query, [(d[\"email\"], d[\"date\"]) for d in data])\n",
    "\n",
    "    cnx.commit()\n",
    "    mycursor.close()\n",
    "    cnx.close()"
   ]
  },
  {
   "cell_type": "code",
   "execution_count": null,
   "id": "ba51755c-6afe-4fb3-a013-1d5350094ccf",
   "metadata": {},
   "outputs": [],
   "source": []
  },
  {
   "cell_type": "code",
   "execution_count": null,
   "id": "5662c355-1155-4dfc-9468-f509bc2fb03e",
   "metadata": {},
   "outputs": [],
   "source": []
  },
  {
   "cell_type": "markdown",
   "id": "8b7138ce-c44c-465a-a9d4-9443cd7ca7ab",
   "metadata": {},
   "source": [
    "## Queries"
   ]
  },
  {
   "cell_type": "code",
   "execution_count": 51,
   "id": "72abc859-9ebd-4f37-b16f-d9a14e61b8d8",
   "metadata": {},
   "outputs": [],
   "source": [
    "queries = {\n",
    "        \"List all unique email address\": \"SELECT DISTINCT email FROM user_history;\",\n",
    "        \"Count emails per day\": \"SELECT DATE(date) AS day, COUNT(email) FROM user_history GROUP BY day;\",\n",
    "        \"First and last email date per email\": \"\"\"\n",
    "         SELECT email, MIN(date) as first_email, MAX(date) as last_email\n",
    "         FROM user_history GROUP BY email;\n",
    "        \"\"\",\n",
    "        \"Count emails per domain\" : \"\"\"\n",
    "         SELECT SUBSTRING_INDEX(email, '@', -1) AS domain, COUNT(email)\n",
    "         FROM user_history GROUP BY domain; \n",
    "        \"\"\"\n",
    "    }\n",
    "\n",
    "def execute_queries():\n",
    "    cnx = mysql.connector.connect(**MYSQL_CONFIG)\n",
    "    mycursor = cnx.cursor(buffered=True)\n",
    "\n",
    "    for title, query in queries.items():\n",
    "        print(f\"\\n{title}:\")\n",
    "        mycursor.execute(query)\n",
    "        rows = mycursor.fetchall()\n",
    "        \n",
    "        if rows:\n",
    "            for row in rows:\n",
    "                print(row)\n",
    "        else:\n",
    "            print(\"No results found.\")\n",
    "        \n",
    "        # Ensure the results are consumed before running another query\n",
    "        mycursor.nextset()\n",
    "\n",
    "    # Close the cursor and connection\n",
    "    mycursor.close()\n",
    "    cnx.close()\n"
   ]
  },
  {
   "cell_type": "code",
   "execution_count": 52,
   "id": "cb608ec7-d9c9-487f-8ad5-e5b2d2f46c31",
   "metadata": {},
   "outputs": [
    {
     "name": "stdout",
     "output_type": "stream",
     "text": [
      "\n",
      "List all unique email address:\n",
      "('stephen.marquard@uct.ac.za',)\n",
      "('louis@media.berkeley.edu',)\n",
      "('zqian@umich.edu',)\n",
      "('rjlowe@iupui.edu',)\n",
      "('cwen@iupui.edu',)\n",
      "('gsilver@umich.edu',)\n",
      "('wagnermr@iupui.edu',)\n",
      "('antranig@caret.cam.ac.uk',)\n",
      "('gopal.ramasammycook@gmail.com',)\n",
      "('david.horwitz@uct.ac.za',)\n",
      "('ray@media.berkeley.edu',)\n",
      "('mmmay@indiana.edu',)\n",
      "('stuart.freeman@et.gatech.edu',)\n",
      "('tnguyen@iupui.edu',)\n",
      "('chmaurer@iupui.edu',)\n",
      "('aaronz@vt.edu',)\n",
      "('ian@caret.cam.ac.uk',)\n",
      "('csev@umich.edu',)\n",
      "('jimeng@umich.edu',)\n",
      "('josrodri@iupui.edu',)\n",
      "('knoop@umich.edu',)\n",
      "('bkirschn@umich.edu',)\n",
      "('dlhaines@umich.edu',)\n",
      "('hu2@iupui.edu',)\n",
      "('sgithens@caret.cam.ac.uk',)\n",
      "('arwhyte@umich.edu',)\n",
      "('gbhatnag@umich.edu',)\n",
      "('gjthomas@iupui.edu',)\n",
      "('a.fish@lancaster.ac.uk',)\n",
      "('ajpoland@iupui.edu',)\n",
      "('lance@indiana.edu',)\n",
      "('ssmail@indiana.edu',)\n",
      "('jlrenfro@ucdavis.edu',)\n",
      "('nuno@ufp.pt',)\n",
      "('zach.thomas@txstate.edu',)\n",
      "('ktsao@stanford.edu',)\n",
      "('ostermmg@whitman.edu',)\n",
      "('john.ellis@rsmart.com',)\n",
      "('jleasia@umich.edu',)\n",
      "('ggolden@umich.edu',)\n",
      "('thoppaymallika@fhda.edu',)\n",
      "('kimsooil@bu.edu',)\n",
      "('bahollad@indiana.edu',)\n",
      "('jzaremba@unicon.net',)\n",
      "('mbreuker@loi.nl',)\n",
      "('colin.clark@utoronto.ca',)\n",
      "\n",
      "Count emails per day:\n",
      "(datetime.date(2008, 1, 4), 1797)\n",
      "\n",
      "First and last email date per email:\n",
      "('stephen.marquard@uct.ac.za', datetime.datetime(2008, 1, 4, 18, 8, 57), datetime.datetime(2008, 1, 4, 18, 8, 57))\n",
      "('louis@media.berkeley.edu', datetime.datetime(2008, 1, 4, 18, 8, 57), datetime.datetime(2008, 1, 4, 18, 8, 57))\n",
      "('zqian@umich.edu', datetime.datetime(2008, 1, 4, 18, 8, 57), datetime.datetime(2008, 1, 4, 18, 8, 57))\n",
      "('rjlowe@iupui.edu', datetime.datetime(2008, 1, 4, 18, 8, 57), datetime.datetime(2008, 1, 4, 18, 8, 57))\n",
      "('cwen@iupui.edu', datetime.datetime(2008, 1, 4, 18, 8, 57), datetime.datetime(2008, 1, 4, 18, 8, 57))\n",
      "('gsilver@umich.edu', datetime.datetime(2008, 1, 4, 18, 8, 57), datetime.datetime(2008, 1, 4, 18, 8, 57))\n",
      "('wagnermr@iupui.edu', datetime.datetime(2008, 1, 4, 18, 8, 57), datetime.datetime(2008, 1, 4, 18, 8, 57))\n",
      "('antranig@caret.cam.ac.uk', datetime.datetime(2008, 1, 4, 18, 8, 57), datetime.datetime(2008, 1, 4, 18, 8, 57))\n",
      "('gopal.ramasammycook@gmail.com', datetime.datetime(2008, 1, 4, 18, 8, 57), datetime.datetime(2008, 1, 4, 18, 8, 57))\n",
      "('david.horwitz@uct.ac.za', datetime.datetime(2008, 1, 4, 18, 8, 57), datetime.datetime(2008, 1, 4, 18, 8, 57))\n",
      "('ray@media.berkeley.edu', datetime.datetime(2008, 1, 4, 18, 8, 57), datetime.datetime(2008, 1, 4, 18, 8, 57))\n",
      "('mmmay@indiana.edu', datetime.datetime(2008, 1, 4, 18, 8, 57), datetime.datetime(2008, 1, 4, 18, 8, 57))\n",
      "('stuart.freeman@et.gatech.edu', datetime.datetime(2008, 1, 4, 18, 8, 57), datetime.datetime(2008, 1, 4, 18, 8, 57))\n",
      "('tnguyen@iupui.edu', datetime.datetime(2008, 1, 4, 18, 8, 57), datetime.datetime(2008, 1, 4, 18, 8, 57))\n",
      "('chmaurer@iupui.edu', datetime.datetime(2008, 1, 4, 18, 8, 57), datetime.datetime(2008, 1, 4, 18, 8, 57))\n",
      "('aaronz@vt.edu', datetime.datetime(2008, 1, 4, 18, 8, 57), datetime.datetime(2008, 1, 4, 18, 8, 57))\n",
      "('ian@caret.cam.ac.uk', datetime.datetime(2008, 1, 4, 18, 8, 57), datetime.datetime(2008, 1, 4, 18, 8, 57))\n",
      "('csev@umich.edu', datetime.datetime(2008, 1, 4, 18, 8, 57), datetime.datetime(2008, 1, 4, 18, 8, 57))\n",
      "('jimeng@umich.edu', datetime.datetime(2008, 1, 4, 18, 8, 57), datetime.datetime(2008, 1, 4, 18, 8, 57))\n",
      "('josrodri@iupui.edu', datetime.datetime(2008, 1, 4, 18, 8, 57), datetime.datetime(2008, 1, 4, 18, 8, 57))\n",
      "('knoop@umich.edu', datetime.datetime(2008, 1, 4, 18, 8, 57), datetime.datetime(2008, 1, 4, 18, 8, 57))\n",
      "('bkirschn@umich.edu', datetime.datetime(2008, 1, 4, 18, 8, 57), datetime.datetime(2008, 1, 4, 18, 8, 57))\n",
      "('dlhaines@umich.edu', datetime.datetime(2008, 1, 4, 18, 8, 57), datetime.datetime(2008, 1, 4, 18, 8, 57))\n",
      "('hu2@iupui.edu', datetime.datetime(2008, 1, 4, 18, 8, 57), datetime.datetime(2008, 1, 4, 18, 8, 57))\n",
      "('sgithens@caret.cam.ac.uk', datetime.datetime(2008, 1, 4, 18, 8, 57), datetime.datetime(2008, 1, 4, 18, 8, 57))\n",
      "('arwhyte@umich.edu', datetime.datetime(2008, 1, 4, 18, 8, 57), datetime.datetime(2008, 1, 4, 18, 8, 57))\n",
      "('gbhatnag@umich.edu', datetime.datetime(2008, 1, 4, 18, 8, 57), datetime.datetime(2008, 1, 4, 18, 8, 57))\n",
      "('gjthomas@iupui.edu', datetime.datetime(2008, 1, 4, 18, 8, 57), datetime.datetime(2008, 1, 4, 18, 8, 57))\n",
      "('a.fish@lancaster.ac.uk', datetime.datetime(2008, 1, 4, 18, 8, 57), datetime.datetime(2008, 1, 4, 18, 8, 57))\n",
      "('ajpoland@iupui.edu', datetime.datetime(2008, 1, 4, 18, 8, 57), datetime.datetime(2008, 1, 4, 18, 8, 57))\n",
      "('lance@indiana.edu', datetime.datetime(2008, 1, 4, 18, 8, 57), datetime.datetime(2008, 1, 4, 18, 8, 57))\n",
      "('ssmail@indiana.edu', datetime.datetime(2008, 1, 4, 18, 8, 57), datetime.datetime(2008, 1, 4, 18, 8, 57))\n",
      "('jlrenfro@ucdavis.edu', datetime.datetime(2008, 1, 4, 18, 8, 57), datetime.datetime(2008, 1, 4, 18, 8, 57))\n",
      "('nuno@ufp.pt', datetime.datetime(2008, 1, 4, 18, 8, 57), datetime.datetime(2008, 1, 4, 18, 8, 57))\n",
      "('zach.thomas@txstate.edu', datetime.datetime(2008, 1, 4, 18, 8, 57), datetime.datetime(2008, 1, 4, 18, 8, 57))\n",
      "('ktsao@stanford.edu', datetime.datetime(2008, 1, 4, 18, 8, 57), datetime.datetime(2008, 1, 4, 18, 8, 57))\n",
      "('ostermmg@whitman.edu', datetime.datetime(2008, 1, 4, 18, 8, 57), datetime.datetime(2008, 1, 4, 18, 8, 57))\n",
      "('john.ellis@rsmart.com', datetime.datetime(2008, 1, 4, 18, 8, 57), datetime.datetime(2008, 1, 4, 18, 8, 57))\n",
      "('jleasia@umich.edu', datetime.datetime(2008, 1, 4, 18, 8, 57), datetime.datetime(2008, 1, 4, 18, 8, 57))\n",
      "('ggolden@umich.edu', datetime.datetime(2008, 1, 4, 18, 8, 57), datetime.datetime(2008, 1, 4, 18, 8, 57))\n",
      "('thoppaymallika@fhda.edu', datetime.datetime(2008, 1, 4, 18, 8, 57), datetime.datetime(2008, 1, 4, 18, 8, 57))\n",
      "('kimsooil@bu.edu', datetime.datetime(2008, 1, 4, 18, 8, 57), datetime.datetime(2008, 1, 4, 18, 8, 57))\n",
      "('bahollad@indiana.edu', datetime.datetime(2008, 1, 4, 18, 8, 57), datetime.datetime(2008, 1, 4, 18, 8, 57))\n",
      "('jzaremba@unicon.net', datetime.datetime(2008, 1, 4, 18, 8, 57), datetime.datetime(2008, 1, 4, 18, 8, 57))\n",
      "('mbreuker@loi.nl', datetime.datetime(2008, 1, 4, 18, 8, 57), datetime.datetime(2008, 1, 4, 18, 8, 57))\n",
      "('colin.clark@utoronto.ca', datetime.datetime(2008, 1, 4, 18, 8, 57), datetime.datetime(2008, 1, 4, 18, 8, 57))\n",
      "\n",
      "Count emails per domain:\n",
      "('uct.ac.za', 96)\n",
      "('media.berkeley.edu', 56)\n",
      "('umich.edu', 491)\n",
      "('iupui.edu', 536)\n",
      "('caret.cam.ac.uk', 157)\n",
      "('gmail.com', 25)\n",
      "('indiana.edu', 178)\n",
      "('et.gatech.edu', 17)\n",
      "('vt.edu', 110)\n",
      "('lancaster.ac.uk', 14)\n",
      "('ucdavis.edu', 1)\n",
      "('ufp.pt', 28)\n",
      "('txstate.edu', 17)\n",
      "('stanford.edu', 12)\n",
      "('whitman.edu', 17)\n",
      "('rsmart.com', 8)\n",
      "('fhda.edu', 1)\n",
      "('bu.edu', 14)\n",
      "('unicon.net', 9)\n",
      "('loi.nl', 9)\n",
      "('utoronto.ca', 1)\n"
     ]
    }
   ],
   "source": [
    "execute_queries()"
   ]
  },
  {
   "cell_type": "code",
   "execution_count": null,
   "id": "9a5a9d7c-18b2-4808-8fe1-6aa93e6e12c6",
   "metadata": {},
   "outputs": [],
   "source": []
  },
  {
   "cell_type": "code",
   "execution_count": null,
   "id": "27eca3d3-a23e-4834-befa-7c9fcbfa099c",
   "metadata": {},
   "outputs": [],
   "source": []
  },
  {
   "cell_type": "code",
   "execution_count": null,
   "id": "1267efd4-7839-4f42-8bb3-e4fb47f0f554",
   "metadata": {},
   "outputs": [],
   "source": []
  },
  {
   "cell_type": "code",
   "execution_count": null,
   "id": "6b785a7b-541c-494d-8e80-433ba30ddcb2",
   "metadata": {},
   "outputs": [],
   "source": []
  },
  {
   "cell_type": "code",
   "execution_count": null,
   "id": "3ef3a205-729f-4f2a-be96-8e534f54af59",
   "metadata": {},
   "outputs": [],
   "source": []
  }
 ],
 "metadata": {
  "kernelspec": {
   "display_name": "Python 3 (ipykernel)",
   "language": "python",
   "name": "python3"
  },
  "language_info": {
   "codemirror_mode": {
    "name": "ipython",
    "version": 3
   },
   "file_extension": ".py",
   "mimetype": "text/x-python",
   "name": "python",
   "nbconvert_exporter": "python",
   "pygments_lexer": "ipython3",
   "version": "3.11.0"
  },
  "widgets": {
   "application/vnd.jupyter.widget-state+json": {
    "state": {},
    "version_major": 2,
    "version_minor": 0
   }
  }
 },
 "nbformat": 4,
 "nbformat_minor": 5
}
